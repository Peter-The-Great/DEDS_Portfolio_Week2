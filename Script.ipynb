{
 "cells": [
  {
   "cell_type": "code",
   "execution_count": 1,
   "metadata": {},
   "outputs": [
    {
     "name": "stdout",
     "output_type": "stream",
     "text": [
      "Hello World\n"
     ]
    }
   ],
   "source": [
    "print(\"Hello World\")"
   ]
  },
  {
   "cell_type": "markdown",
   "metadata": {},
   "source": [
    "De code hierboven print gewoon simpel gezegd Hello World.\n",
    "\n",
    "Maar de code hieronder neemt gebruikers input om uit te berekenen wat de rekensom heeft. Dit is gewoon te laten zien dat onze scripts werken en dat Jupiter ook werkt."
   ]
  },
  {
   "cell_type": "code",
   "execution_count": 2,
   "metadata": {},
   "outputs": [
    {
     "name": "stdout",
     "output_type": "stream",
     "text": [
      "Result: 9\n"
     ]
    }
   ],
   "source": [
    "# De gebruiker typed een expressie in die geëvalueerd moet worden een mathematische expressie. Zoals (1+3)*2+1\n",
    "expression = input(\"Enter a mathematical expression: \")\n",
    "\n",
    "# Evalueer de expressie met behulp van de eval() functie\n",
    "result = eval(expression)\n",
    "\n",
    "# Print het resultaat uit\n",
    "print(\"Result:\", result)"
   ]
  }
 ],
 "metadata": {
  "kernelspec": {
   "display_name": "pjotr-sennen-des-portfolio-PCI7keO9-py3.12",
   "language": "python",
   "name": "python3"
  },
  "language_info": {
   "codemirror_mode": {
    "name": "ipython",
    "version": 3
   },
   "file_extension": ".py",
   "mimetype": "text/x-python",
   "name": "python",
   "nbconvert_exporter": "python",
   "pygments_lexer": "ipython3",
   "version": "3.12.1"
  }
 },
 "nbformat": 4,
 "nbformat_minor": 2
}
